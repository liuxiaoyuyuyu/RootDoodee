{
 "cells": [
  {
   "cell_type": "code",
   "execution_count": 2,
   "metadata": {},
   "outputs": [],
   "source": [
    "from scipy.special import factorial\n",
    "from scipy.stats import binom\n",
    "import pandas as pd\n",
    "import numpy as np\n",
    "import math"
   ]
  },
  {
   "cell_type": "code",
   "execution_count": 3,
   "metadata": {},
   "outputs": [],
   "source": [
    "#function for calculating the total cost. total purchase and the derivative of f(B)/g(B) over Bi\n",
    "\n",
    "def cal_tcost(a,b0,M,B,C,S):\n",
    "    tmp=0.0\n",
    "    for i in range(0,len(B)):\n",
    "        x=a[i]*(B[i]-10.0)+b0[i]\n",
    "        P=1/(1+math.exp(-x))\n",
    "        for r in range(0,5):\n",
    "            tmp+=binom.pmf(r,4,P)*B[i]*C[i,r]*M[i]\n",
    "    return tmp\n",
    "\n",
    "def cal_tsr(a,b0,M,B,S):\n",
    "    tmp=0.0\n",
    "    for i in range(0,len(B)):\n",
    "        x=a[i]*(B[i]-10.0)+b0[i]\n",
    "        P=1/(1+math.exp(-x))\n",
    "        for r in range(0,5):\n",
    "            tmp+=binom.pmf(r,4,P)*S[i,r]*M[i]\n",
    "    return tmp\n",
    "\n",
    "#calculate the derivative over Bj, return a float\n",
    "def calc_fgderive_entry(a,b0,M,B,C,S,j):\n",
    "    S_den=cal_tsr(a,b0,M,B,S)\n",
    "    C_num=cal_tcost(a,b0,M,B,C,S)\n",
    "    coe1=M[j]/S_den\n",
    "    coe2=C_num/(S_den**2)*a[j]*M[j]\n",
    "    x=a[j]*(B[j]-10.0)+b0[j]\n",
    "    P=1/(1+math.exp(-x))\n",
    "    sum1=0.0\n",
    "    sum2=0.0\n",
    "   \n",
    "    for r in range(0,5):\n",
    "        sum1+=1+a[j]*B[j]*(r-1-4*P)*C[j,r]*binom.pmf(r,4,P)\n",
    "        sum2+=(r-1-4*P)*S[j,r]*binom.pmf(r,4,P)\n",
    "        tmp=sum1*coe1-sum2*coe2\n",
    "    return tmp\n",
    "    "
   ]
  },
  {
   "cell_type": "code",
   "execution_count": 4,
   "metadata": {},
   "outputs": [],
   "source": [
    "#read in data and make M,C,S,b0 arrays\n",
    "df=pd.read_csv(\"predict_proba_averaged.csv\")\n",
    "df_xy=pd.read_csv(\"bi0.csv\")\n",
    "\n",
    "Insure=[\"Y\",\"N\",\"unknown\"]\n",
    "Ncars=[1,2,3]\n",
    "Ndrivers=[1,2]\n",
    "Marital=[\"S\",\"M\"]\n",
    "Count=0\n",
    "\n",
    "C=np.zeros((36,5))\n",
    "S=np.zeros((36,5))\n",
    "M=np.zeros(36)\n",
    "b0=np.zeros(36)\n",
    "\n",
    "for i in Insure:\n",
    "    for j in Ncars:\n",
    "        for n in Ndrivers:\n",
    "            for m in Marital:\n",
    "                C[Count]=df.loc[(df[\"Currently Insured\"]==i) & (df[\"Number of Vehicles\"]==j) & (df[\"Number of Drivers\"]==n) & (df[\"Marital Status\"]==m)]['ave_Click_pred'].to_numpy()\n",
    "                S[Count]=df.loc[(df[\"Currently Insured\"]==i) & (df[\"Number of Vehicles\"]==j) & (df[\"Number of Drivers\"]==n) & (df[\"Marital Status\"]==m)]['ave_Purchase_pred'].to_numpy()\n",
    "                M[Count]=df_xy.loc[(df_xy[\"Currently Insured\"]==i) & (df_xy[\"Number of Vehicles\"]==j) & (df_xy[\"Number of Drivers\"]==n) & (df_xy[\"Marital Status\"]==m)]['Mi'].to_numpy()[0]\n",
    "                b0[Count]=df_xy.loc[(df_xy[\"Currently Insured\"]==i) & (df_xy[\"Number of Vehicles\"]==j) & (df_xy[\"Number of Drivers\"]==n) & (df_xy[\"Marital Status\"]==m)]['bi0'].to_numpy()[0]\n",
    "                #print(type(df_xy.loc[(df[\"Currently Insured\"]==i) & (df[\"Number of Vehicles\"]==j) & (df[\"Number of Drivers\"]==n) & (df[\"Marital Status\"]==m)]['bi0'].to_numpy()[0]))\n",
    "                Count+=1\n",
    "\n",
    "#drop the type that doesn't exist: unknown, 3 cars, 2 drivers, single, index=34\n",
    "#np arrays are mutable \n",
    "C=np.delete(C,34,0)\n",
    "S=np.delete(S,34,0)\n",
    "M=np.delete(M,34)\n",
    "b0=np.delete(b0,34)"
   ]
  },
  {
   "cell_type": "code",
   "execution_count": 5,
   "metadata": {},
   "outputs": [],
   "source": [
    "#Basic gradient descent, stop when purchase rate falls below 4%\n",
    "def GD_basic(eps,step,Nitr,B):\n",
    "    for i in range(0,Nitr):\n",
    "        B_pri=np.zeros(len(B))\n",
    "        for j in range(0,len(M)):\n",
    "            tmp=B[j]-step*calc_fgderive_entry(a,b0,M,B,C,S,j)\n",
    "            if tmp>0:\n",
    "                B_pri[j]=tmp\n",
    "    \n",
    "        tsr=cal_tsr(a,b0,M,B,S)\n",
    "        tsr_pri=cal_tsr(a,b0,M,B_pri,S)\n",
    "        if tsr_pri>0.04:\n",
    "            tcost=cal_tcost(a,b0,M,B,C,S)\n",
    "            tcost_pri=cal_tcost(a,b0,M,B_pri,C,S)\n",
    "            if (tcost/tsr-tcost_pri/tsr_pri)>=eps:\n",
    "                B=B_pri\n",
    "            else:\n",
    "                print(\"stop at interation \"+str(i)+\"\\n Cause:reach the smallest f(B)/g(B) difference \"+str(tcost/tsr-tcost_pri/tsr_pri))\n",
    "                break\n",
    "        else:\n",
    "            print(\"stop at interation \"+str(i)+\"\\n Cause: purcahse rate is below 4%\")\n",
    "            break\n",
    "        if i==(Nitr-1):\n",
    "            print(\"run out of itrations\")\n",
    "\n",
    "    print(B)\n",
    "    print(cal_tsr(a,b0,M,B,S))\n",
    "    print(cal_tcost(a,b0,M,B_pri,C,S)/cal_tsr(a,b0,M,B,S))\n",
    "    return B        "
   ]
  },
  {
   "cell_type": "code",
   "execution_count": 6,
   "metadata": {},
   "outputs": [],
   "source": [
    "#Josh's modified Projected gradient descent algorithm\n",
    "def GD_Josh(eps,step,Nitr,B):\n",
    "    for i in range(0,Nitr):\n",
    "        B_pri=np.zeros(len(B))\n",
    "        for j in range(0,len(M)):\n",
    "            tmp=B[j]-step*calc_fgderive_entry(a,b0,M,B,C,S,j)\n",
    "            if tmp>0:\n",
    "                B_pri[j]=tmp\n",
    "    \n",
    "        tsr=cal_tsr(a,b0,M,B,S)\n",
    "        tsr_pri=cal_tsr(a,b0,M,B_pri,S)\n",
    "        if tsr_pri>0.04:\n",
    "            tcost=cal_tcost(a,b0,M,B,C,S)\n",
    "            tcost_pri=cal_tcost(a,b0,M,B_pri,C,S)\n",
    "            if (tcost/tsr-tcost_pri/tsr_pri)>=eps:\n",
    "                B=B_pri\n",
    "            else:\n",
    "                print(\"stop at interation \"+str(i)+\"\\n Cause:reach the smallest f(B)/g(B) difference \"+str(tcost/tsr-tcost_pri/tsr_pri))\n",
    "                break\n",
    "        elif (tcost/tsr-tcost_pri/tsr_pri)>=eps:\n",
    "            L=0.0\n",
    "            for j in range(0,len(M)):\n",
    "                L+=calc_fgderive_entry(a,b0,M,B,C,S,j)**2\n",
    "            L=math.sqrt(L)*step\n",
    "            jstar=-1\n",
    "            mstar=-1\n",
    "            Hstar=1000\n",
    "            for j in range(0,len(M)):\n",
    "                for m in [0,1]:\n",
    "                    B_pri_copy=B_pri.copy()\n",
    "                    if B_pri_copy[j]==0 and m==0:\n",
    "                        continue\n",
    "                    B_pri_copy[j]=B_pri_copy[j]+(-1)**m*L\n",
    "                    cpc_pri=cal_tcost(a,b0,M,B_pri_copy,C,S)/cal_tsr(a,b0,M,B_pri_copy,S)\n",
    "                    cpc=cal_tcost(a,b0,M,B,C,S)/cal_tsr(a,b0,M,B,S)\n",
    "                    if cal_tsr(a,b0,M,B_pri_copy,S)>0.04 and cpc_pri< min(cpc-eps,Hstar):\n",
    "                        jstar=j\n",
    "                        mstar=m\n",
    "                        Hstar=cpc_pri\n",
    "            if jstar>=0 and mstar>=0:\n",
    "                B[jstar]=B[jstar]+(-1)**mstar*L\n",
    "        \n",
    "        \n",
    "        if i==(Nitr-1):\n",
    "            print(\"run out of itrations\")\n",
    "\n",
    "    print(cal_tsr(a,b0,M,B,S))\n",
    "    print(cal_tcost(a,b0,M,B_pri,C,S)/cal_tsr(a,b0,M,B,S))\n",
    "    return B "
   ]
  },
  {
   "cell_type": "code",
   "execution_count": 1,
   "metadata": {},
   "outputs": [
    {
     "ename": "NameError",
     "evalue": "name 'np' is not defined",
     "output_type": "error",
     "traceback": [
      "\u001b[0;31m---------------------------------------------------------------------------\u001b[0m",
      "\u001b[0;31mNameError\u001b[0m                                 Traceback (most recent call last)",
      "\u001b[0;32m<ipython-input-1-edc74c217aed>\u001b[0m in \u001b[0;36m<module>\u001b[0;34m\u001b[0m\n\u001b[1;32m      3\u001b[0m \u001b[0mstep\u001b[0m\u001b[0;34m=\u001b[0m\u001b[0;36m0.05\u001b[0m\u001b[0;34m\u001b[0m\u001b[0;34m\u001b[0m\u001b[0m\n\u001b[1;32m      4\u001b[0m \u001b[0mNitr\u001b[0m\u001b[0;34m=\u001b[0m\u001b[0;36m100\u001b[0m\u001b[0;34m\u001b[0m\u001b[0;34m\u001b[0m\u001b[0m\n\u001b[0;32m----> 5\u001b[0;31m \u001b[0ma\u001b[0m\u001b[0;34m=\u001b[0m\u001b[0mnp\u001b[0m\u001b[0;34m.\u001b[0m\u001b[0mfull\u001b[0m\u001b[0;34m(\u001b[0m\u001b[0mlen\u001b[0m\u001b[0;34m(\u001b[0m\u001b[0mM\u001b[0m\u001b[0;34m)\u001b[0m\u001b[0;34m,\u001b[0m\u001b[0;34m-\u001b[0m\u001b[0;36m0.5\u001b[0m\u001b[0;34m)\u001b[0m\u001b[0;34m\u001b[0m\u001b[0;34m\u001b[0m\u001b[0m\n\u001b[0m",
      "\u001b[0;31mNameError\u001b[0m: name 'np' is not defined"
     ]
    }
   ],
   "source": [
    "#set the Nitr,eps(smallest f(B)/g(B) difference), a and step\n",
    "eps=0.0001\n",
    "step=0.05\n",
    "Nitr=100\n",
    "a=np.full(len(M),-0.5)"
   ]
  },
  {
   "cell_type": "code",
   "execution_count": null,
   "metadata": {},
   "outputs": [],
   "source": [
    "#random assign the initial B\n",
    "B=np.zeros(len(M))\n",
    "while cal_tsr(a,b0,M,B,S)<0.04:\n",
    "    for i in range(0,len(B)):\n",
    "        B[i]=np.random.randint(1,20)\n",
    "        \n",
    "print(B)\n",
    "print(cal_tsr(a,b0,M,B,S))\n",
    "print(cal_tcost(a,b0,M,B,C,S)/cal_tsr(a,b0,M,B,S))"
   ]
  },
  {
   "cell_type": "code",
   "execution_count": 9,
   "metadata": {},
   "outputs": [
    {
     "name": "stdout",
     "output_type": "stream",
     "text": [
      "run out of itrations\n",
      "0.040134850697029115\n",
      "6.839122704308893\n"
     ]
    }
   ],
   "source": [
    "#set a and run the algorithm \n",
    "B_m0p5_1=GD_Josh(eps,step,Nitr,B)"
   ]
  }
 ],
 "metadata": {
  "kernelspec": {
   "display_name": "Python 3",
   "language": "python",
   "name": "python3"
  },
  "language_info": {
   "codemirror_mode": {
    "name": "ipython",
    "version": 3
   },
   "file_extension": ".py",
   "mimetype": "text/x-python",
   "name": "python",
   "nbconvert_exporter": "python",
   "pygments_lexer": "ipython3",
   "version": "3.8.5"
  }
 },
 "nbformat": 4,
 "nbformat_minor": 4
}
